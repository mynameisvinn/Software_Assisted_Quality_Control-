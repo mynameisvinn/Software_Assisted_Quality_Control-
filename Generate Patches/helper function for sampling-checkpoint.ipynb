{
 "cells": [
  {
   "cell_type": "code",
   "execution_count": 1,
   "metadata": {
    "collapsed": true
   },
   "outputs": [],
   "source": [
    "import pandas as pd"
   ]
  },
  {
   "cell_type": "code",
   "execution_count": 2,
   "metadata": {
    "collapsed": true
   },
   "outputs": [],
   "source": [
    "data = pd.read_excel('Clarapath - Harvard, Project 17 - Auto Counted Data Files.xlsx')"
   ]
  },
  {
   "cell_type": "code",
   "execution_count": 3,
   "metadata": {
    "collapsed": false
   },
   "outputs": [
    {
     "data": {
      "text/html": [
       "<div>\n",
       "<table border=\"1\" class=\"dataframe\">\n",
       "  <thead>\n",
       "    <tr style=\"text-align: right;\">\n",
       "      <th></th>\n",
       "      <th>institution_name</th>\n",
       "      <th>project_id</th>\n",
       "      <th>raw_specimen_id</th>\n",
       "      <th>slide_id</th>\n",
       "      <th>slides_name</th>\n",
       "      <th>data_file_id</th>\n",
       "    </tr>\n",
       "  </thead>\n",
       "  <tbody>\n",
       "    <tr>\n",
       "      <th>0</th>\n",
       "      <td>Harvard</td>\n",
       "      <td>17</td>\n",
       "      <td>1</td>\n",
       "      <td>3214</td>\n",
       "      <td>83_136_2015-07-15_3_3214</td>\n",
       "      <td>8717</td>\n",
       "    </tr>\n",
       "    <tr>\n",
       "      <th>1</th>\n",
       "      <td>Harvard</td>\n",
       "      <td>17</td>\n",
       "      <td>1</td>\n",
       "      <td>3214</td>\n",
       "      <td>83_136_2015-07-15_3_3214</td>\n",
       "      <td>8718</td>\n",
       "    </tr>\n",
       "    <tr>\n",
       "      <th>2</th>\n",
       "      <td>Harvard</td>\n",
       "      <td>17</td>\n",
       "      <td>1</td>\n",
       "      <td>3214</td>\n",
       "      <td>83_136_2015-07-15_3_3214</td>\n",
       "      <td>8719</td>\n",
       "    </tr>\n",
       "    <tr>\n",
       "      <th>3</th>\n",
       "      <td>Harvard</td>\n",
       "      <td>17</td>\n",
       "      <td>1</td>\n",
       "      <td>3689</td>\n",
       "      <td>89_140_2015-07-21_3_3689</td>\n",
       "      <td>10088</td>\n",
       "    </tr>\n",
       "    <tr>\n",
       "      <th>4</th>\n",
       "      <td>Harvard</td>\n",
       "      <td>17</td>\n",
       "      <td>1</td>\n",
       "      <td>3689</td>\n",
       "      <td>89_140_2015-07-21_3_3689</td>\n",
       "      <td>10089</td>\n",
       "    </tr>\n",
       "  </tbody>\n",
       "</table>\n",
       "</div>"
      ],
      "text/plain": [
       "  institution_name  project_id  raw_specimen_id  slide_id  \\\n",
       "0          Harvard          17                1      3214   \n",
       "1          Harvard          17                1      3214   \n",
       "2          Harvard          17                1      3214   \n",
       "3          Harvard          17                1      3689   \n",
       "4          Harvard          17                1      3689   \n",
       "\n",
       "                slides_name  data_file_id  \n",
       "0  83_136_2015-07-15_3_3214          8717  \n",
       "1  83_136_2015-07-15_3_3214          8718  \n",
       "2  83_136_2015-07-15_3_3214          8719  \n",
       "3  89_140_2015-07-21_3_3689         10088  \n",
       "4  89_140_2015-07-21_3_3689         10089  "
      ]
     },
     "execution_count": 3,
     "metadata": {},
     "output_type": "execute_result"
    }
   ],
   "source": [
    "data.head()"
   ]
  },
  {
   "cell_type": "code",
   "execution_count": 5,
   "metadata": {
    "collapsed": false
   },
   "outputs": [
    {
     "data": {
      "text/plain": [
       "array([  1,  93,  95,  97,  99, 101, 103, 105, 107, 109, 111, 113, 115,\n",
       "       117, 119, 121, 123, 125, 127, 129, 131, 133, 135, 137, 139, 141,\n",
       "       143, 233, 235, 237, 238, 239, 240, 241, 246, 247, 248, 249, 250,\n",
       "       251, 252, 253, 254, 255])"
      ]
     },
     "execution_count": 5,
     "metadata": {},
     "output_type": "execute_result"
    }
   ],
   "source": [
    "RS_names = data['raw_specimen_id'].unique()\n",
    "RS_names"
   ]
  },
  {
   "cell_type": "code",
   "execution_count": 6,
   "metadata": {
    "collapsed": true
   },
   "outputs": [],
   "source": [
    "ls_pairs = []\n",
    "\n",
    "for rs in RS_names:\n",
    "    \n",
    "    data_temp = data[data['raw_specimen_id'] == rs].reset_index()\n",
    "    \n",
    "    for row in range(20):\n",
    "        ls_pairs.append((rs, data_temp['data_file_id'][row]))"
   ]
  },
  {
   "cell_type": "code",
   "execution_count": 11,
   "metadata": {
    "collapsed": false
   },
   "outputs": [
    {
     "data": {
      "text/html": [
       "<div>\n",
       "<table border=\"1\" class=\"dataframe\">\n",
       "  <thead>\n",
       "    <tr style=\"text-align: right;\">\n",
       "      <th></th>\n",
       "      <th>rs</th>\n",
       "      <th>datafileID</th>\n",
       "    </tr>\n",
       "  </thead>\n",
       "  <tbody>\n",
       "    <tr>\n",
       "      <th>0</th>\n",
       "      <td>1</td>\n",
       "      <td>8717</td>\n",
       "    </tr>\n",
       "    <tr>\n",
       "      <th>1</th>\n",
       "      <td>1</td>\n",
       "      <td>8718</td>\n",
       "    </tr>\n",
       "    <tr>\n",
       "      <th>2</th>\n",
       "      <td>1</td>\n",
       "      <td>8719</td>\n",
       "    </tr>\n",
       "    <tr>\n",
       "      <th>3</th>\n",
       "      <td>1</td>\n",
       "      <td>10088</td>\n",
       "    </tr>\n",
       "    <tr>\n",
       "      <th>4</th>\n",
       "      <td>1</td>\n",
       "      <td>10089</td>\n",
       "    </tr>\n",
       "  </tbody>\n",
       "</table>\n",
       "</div>"
      ],
      "text/plain": [
       "   rs  datafileID\n",
       "0   1        8717\n",
       "1   1        8718\n",
       "2   1        8719\n",
       "3   1       10088\n",
       "4   1       10089"
      ]
     },
     "execution_count": 11,
     "metadata": {},
     "output_type": "execute_result"
    }
   ],
   "source": [
    "ls_pairs_df = pd.DataFrame(ls_pairs)\n",
    "ls_pairs_df.columns = [['rs', 'datafileID']]\n",
    "ls_pairs_df.head()"
   ]
  },
  {
   "cell_type": "code",
   "execution_count": 12,
   "metadata": {
    "collapsed": true
   },
   "outputs": [],
   "source": [
    "ls_pairs_df.to_csv('sample.csv')"
   ]
  },
  {
   "cell_type": "code",
   "execution_count": null,
   "metadata": {
    "collapsed": true
   },
   "outputs": [],
   "source": []
  }
 ],
 "metadata": {
  "kernelspec": {
   "display_name": "Python 2",
   "language": "python",
   "name": "python2"
  },
  "language_info": {
   "codemirror_mode": {
    "name": "ipython",
    "version": 2
   },
   "file_extension": ".py",
   "mimetype": "text/x-python",
   "name": "python",
   "nbconvert_exporter": "python",
   "pygments_lexer": "ipython2",
   "version": "2.7.10"
  }
 },
 "nbformat": 4,
 "nbformat_minor": 0
}
